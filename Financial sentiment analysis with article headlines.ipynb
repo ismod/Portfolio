{
 "cells": [
  {
   "cell_type": "markdown",
   "metadata": {},
   "source": [
    "# Financial Sentiment analysis with article headlines"
   ]
  },
  {
   "cell_type": "code",
   "execution_count": null,
   "metadata": {},
   "outputs": [],
   "source": []
  },
  {
   "cell_type": "markdown",
   "metadata": {},
   "source": [
    "The dataset I'm using, along with it's description is available here: https://www.kaggle.com/ankurzing/sentiment-analysis-for-financial-news.\n",
    "\n",
    "It contains 4837 Financial news headlines with their sentiment (Positive, negative ,neutral).\n",
    "\n",
    "In this project, I develop and train a LSTM model to classify the headlines.\n",
    "\n",
    "Since only the headlines with positive or negative sentiment provide useful information for a trading strategy for example, My objective here will be to optimize the precision and recall of of these two classes (and not worry too much about the neutral class). My emphasis will be on the precision since too many false positives for the two classes of interest would probably erase the benefits of detecting them correctly.\n",
    "\n"
   ]
  },
  {
   "cell_type": "code",
   "execution_count": null,
   "metadata": {},
   "outputs": [],
   "source": []
  },
  {
   "cell_type": "code",
   "execution_count": 2,
   "metadata": {},
   "outputs": [
    {
     "name": "stderr",
     "output_type": "stream",
     "text": [
      "2022-01-31 14:38:01.424206: I tensorflow/stream_executor/platform/default/dso_loader.cc:49] Successfully opened dynamic library libcudart.so.11.0\n",
      "[nltk_data] Downloading package stopwords to /home/jovyan/nltk_data...\n",
      "[nltk_data]   Package stopwords is already up-to-date!\n",
      "[nltk_data] Downloading package punkt to /home/jovyan/nltk_data...\n",
      "[nltk_data]   Package punkt is already up-to-date!\n",
      "[nltk_data] Downloading package wordnet to /home/jovyan/nltk_data...\n",
      "[nltk_data]   Package wordnet is already up-to-date!\n",
      "[nltk_data] Downloading package omw-1.4 to /home/jovyan/nltk_data...\n",
      "[nltk_data]   Package omw-1.4 is already up-to-date!\n"
     ]
    },
    {
     "data": {
      "text/plain": [
       "True"
      ]
     },
     "execution_count": 2,
     "metadata": {},
     "output_type": "execute_result"
    }
   ],
   "source": [
    "#Importing useful libraries\n",
    "\n",
    "import numpy as np # linear algebra\n",
    "import pandas as pd # data processing, CSV file I/O (e.g. pd.read_csv)\n",
    "import math\n",
    "import matplotlib.pyplot as plt\n",
    "import torch\n",
    "import re\n",
    "import tensorflow as tf\n",
    "import string\n",
    "import seaborn as sns\n",
    "\n",
    "from torch import nn\n",
    "\n",
    "#the following two functions will allow to ignore padding of the input passed to the neural network\n",
    "from torch.nn.utils.rnn import pack_padded_sequence \n",
    "from torch.nn.utils.rnn import pad_packed_sequence\n",
    "\n",
    "import nltk\n",
    "import spacy\n",
    "nltk.download('stopwords')\n",
    "nltk.download('punkt')\n",
    "nltk.download('wordnet')\n",
    "nltk.download('omw-1.4')"
   ]
  },
  {
   "cell_type": "code",
   "execution_count": 3,
   "metadata": {},
   "outputs": [
    {
     "name": "stdout",
     "output_type": "stream",
     "text": [
      "Using cuda device\n"
     ]
    }
   ],
   "source": [
    "device = 'cuda' if torch.cuda.is_available() else 'cpu'\n",
    "print('Using {} device'.format(device))"
   ]
  },
  {
   "cell_type": "code",
   "execution_count": null,
   "metadata": {},
   "outputs": [],
   "source": []
  },
  {
   "cell_type": "code",
   "execution_count": null,
   "metadata": {},
   "outputs": [],
   "source": []
  },
  {
   "cell_type": "code",
   "execution_count": null,
   "metadata": {},
   "outputs": [],
   "source": []
  },
  {
   "cell_type": "code",
   "execution_count": null,
   "metadata": {},
   "outputs": [],
   "source": []
  },
  {
   "cell_type": "markdown",
   "metadata": {},
   "source": [
    "I) Data loading and preprocessing"
   ]
  },
  {
   "cell_type": "code",
   "execution_count": 4,
   "metadata": {},
   "outputs": [
    {
     "data": {
      "text/html": [
       "<div>\n",
       "<style scoped>\n",
       "    .dataframe tbody tr th:only-of-type {\n",
       "        vertical-align: middle;\n",
       "    }\n",
       "\n",
       "    .dataframe tbody tr th {\n",
       "        vertical-align: top;\n",
       "    }\n",
       "\n",
       "    .dataframe thead th {\n",
       "        text-align: right;\n",
       "    }\n",
       "</style>\n",
       "<table border=\"1\" class=\"dataframe\">\n",
       "  <thead>\n",
       "    <tr style=\"text-align: right;\">\n",
       "      <th></th>\n",
       "      <th>neutral</th>\n",
       "      <th>According to Gran , the company has no plans to move all production to Russia , although that is where the company is growing .</th>\n",
       "    </tr>\n",
       "  </thead>\n",
       "  <tbody>\n",
       "    <tr>\n",
       "      <th>0</th>\n",
       "      <td>neutral</td>\n",
       "      <td>Technopolis plans to develop in stages an area...</td>\n",
       "    </tr>\n",
       "    <tr>\n",
       "      <th>1</th>\n",
       "      <td>negative</td>\n",
       "      <td>The international electronic industry company ...</td>\n",
       "    </tr>\n",
       "    <tr>\n",
       "      <th>2</th>\n",
       "      <td>positive</td>\n",
       "      <td>With the new production plant the company woul...</td>\n",
       "    </tr>\n",
       "    <tr>\n",
       "      <th>3</th>\n",
       "      <td>positive</td>\n",
       "      <td>According to the company 's updated strategy f...</td>\n",
       "    </tr>\n",
       "    <tr>\n",
       "      <th>4</th>\n",
       "      <td>positive</td>\n",
       "      <td>FINANCING OF ASPOCOMP 'S GROWTH Aspocomp is ag...</td>\n",
       "    </tr>\n",
       "    <tr>\n",
       "      <th>5</th>\n",
       "      <td>positive</td>\n",
       "      <td>For the last quarter of 2010 , Componenta 's n...</td>\n",
       "    </tr>\n",
       "    <tr>\n",
       "      <th>6</th>\n",
       "      <td>positive</td>\n",
       "      <td>In the third quarter of 2010 , net sales incre...</td>\n",
       "    </tr>\n",
       "    <tr>\n",
       "      <th>7</th>\n",
       "      <td>positive</td>\n",
       "      <td>Operating profit rose to EUR 13.1 mn from EUR ...</td>\n",
       "    </tr>\n",
       "    <tr>\n",
       "      <th>8</th>\n",
       "      <td>positive</td>\n",
       "      <td>Operating profit totalled EUR 21.1 mn , up fro...</td>\n",
       "    </tr>\n",
       "    <tr>\n",
       "      <th>9</th>\n",
       "      <td>positive</td>\n",
       "      <td>TeliaSonera TLSN said the offer is in line wit...</td>\n",
       "    </tr>\n",
       "  </tbody>\n",
       "</table>\n",
       "</div>"
      ],
      "text/plain": [
       "    neutral  \\\n",
       "0   neutral   \n",
       "1  negative   \n",
       "2  positive   \n",
       "3  positive   \n",
       "4  positive   \n",
       "5  positive   \n",
       "6  positive   \n",
       "7  positive   \n",
       "8  positive   \n",
       "9  positive   \n",
       "\n",
       "  According to Gran , the company has no plans to move all production to Russia , although that is where the company is growing .  \n",
       "0  Technopolis plans to develop in stages an area...                                                                               \n",
       "1  The international electronic industry company ...                                                                               \n",
       "2  With the new production plant the company woul...                                                                               \n",
       "3  According to the company 's updated strategy f...                                                                               \n",
       "4  FINANCING OF ASPOCOMP 'S GROWTH Aspocomp is ag...                                                                               \n",
       "5  For the last quarter of 2010 , Componenta 's n...                                                                               \n",
       "6  In the third quarter of 2010 , net sales incre...                                                                               \n",
       "7  Operating profit rose to EUR 13.1 mn from EUR ...                                                                               \n",
       "8  Operating profit totalled EUR 21.1 mn , up fro...                                                                               \n",
       "9  TeliaSonera TLSN said the offer is in line wit...                                                                               "
      ]
     },
     "execution_count": 4,
     "metadata": {},
     "output_type": "execute_result"
    }
   ],
   "source": [
    "# Loading the dataset and displaying it's first rows\n",
    "data = pd.read_csv('alldata.csv',delimiter=',',encoding='latin-1')\n",
    "data.head(10)"
   ]
  },
  {
   "cell_type": "code",
   "execution_count": 5,
   "metadata": {},
   "outputs": [
    {
     "data": {
      "text/html": [
       "<div>\n",
       "<style scoped>\n",
       "    .dataframe tbody tr th:only-of-type {\n",
       "        vertical-align: middle;\n",
       "    }\n",
       "\n",
       "    .dataframe tbody tr th {\n",
       "        vertical-align: top;\n",
       "    }\n",
       "\n",
       "    .dataframe thead th {\n",
       "        text-align: right;\n",
       "    }\n",
       "</style>\n",
       "<table border=\"1\" class=\"dataframe\">\n",
       "  <thead>\n",
       "    <tr style=\"text-align: right;\">\n",
       "      <th></th>\n",
       "      <th>label</th>\n",
       "      <th>text</th>\n",
       "    </tr>\n",
       "  </thead>\n",
       "  <tbody>\n",
       "    <tr>\n",
       "      <th>2365</th>\n",
       "      <td>neutral</td>\n",
       "      <td>A total of 185 Wonderware Certified SIs are av...</td>\n",
       "    </tr>\n",
       "    <tr>\n",
       "      <th>3050</th>\n",
       "      <td>neutral</td>\n",
       "      <td>No financial details were revealed .</td>\n",
       "    </tr>\n",
       "    <tr>\n",
       "      <th>1973</th>\n",
       "      <td>neutral</td>\n",
       "      <td>An appeal concerning the project has been lodg...</td>\n",
       "    </tr>\n",
       "    <tr>\n",
       "      <th>4321</th>\n",
       "      <td>neutral</td>\n",
       "      <td>In the spring 2006 , a total of 386,530 Stock ...</td>\n",
       "    </tr>\n",
       "    <tr>\n",
       "      <th>2590</th>\n",
       "      <td>neutral</td>\n",
       "      <td>The buyer is real estate owner Propertos Oy , ...</td>\n",
       "    </tr>\n",
       "    <tr>\n",
       "      <th>4459</th>\n",
       "      <td>positive</td>\n",
       "      <td>Efore 's results for the last quarter showed a...</td>\n",
       "    </tr>\n",
       "    <tr>\n",
       "      <th>1625</th>\n",
       "      <td>neutral</td>\n",
       "      <td>The corrected chapter is in its entirety below .</td>\n",
       "    </tr>\n",
       "    <tr>\n",
       "      <th>155</th>\n",
       "      <td>positive</td>\n",
       "      <td>Also Lemmink+Æinen 's profit for accounting pe...</td>\n",
       "    </tr>\n",
       "    <tr>\n",
       "      <th>4176</th>\n",
       "      <td>negative</td>\n",
       "      <td>As a result , 12 people will be made redundant...</td>\n",
       "    </tr>\n",
       "    <tr>\n",
       "      <th>2516</th>\n",
       "      <td>neutral</td>\n",
       "      <td>Neste Shipping is the most likely to remain Fi...</td>\n",
       "    </tr>\n",
       "  </tbody>\n",
       "</table>\n",
       "</div>"
      ],
      "text/plain": [
       "         label                                               text\n",
       "2365   neutral  A total of 185 Wonderware Certified SIs are av...\n",
       "3050   neutral               No financial details were revealed .\n",
       "1973   neutral  An appeal concerning the project has been lodg...\n",
       "4321   neutral  In the spring 2006 , a total of 386,530 Stock ...\n",
       "2590   neutral  The buyer is real estate owner Propertos Oy , ...\n",
       "4459  positive  Efore 's results for the last quarter showed a...\n",
       "1625   neutral   The corrected chapter is in its entirety below .\n",
       "155   positive  Also Lemmink+Æinen 's profit for accounting pe...\n",
       "4176  negative  As a result , 12 people will be made redundant...\n",
       "2516   neutral  Neste Shipping is the most likely to remain Fi..."
      ]
     },
     "execution_count": 5,
     "metadata": {},
     "output_type": "execute_result"
    }
   ],
   "source": [
    "# Giving names to the dataset columns\n",
    "data.columns = ['label','text']\n",
    "data = data.sample(frac =1)\n",
    "data.head(10)"
   ]
  },
  {
   "cell_type": "code",
   "execution_count": 6,
   "metadata": {},
   "outputs": [
    {
     "data": {
      "text/plain": [
       "8"
      ]
     },
     "execution_count": 6,
     "metadata": {},
     "output_type": "execute_result"
    }
   ],
   "source": [
    "#Checking for duplicates\n",
    "data.text.duplicated().sum()"
   ]
  },
  {
   "cell_type": "code",
   "execution_count": 7,
   "metadata": {},
   "outputs": [
    {
     "data": {
      "text/plain": [
       "0"
      ]
     },
     "execution_count": 7,
     "metadata": {},
     "output_type": "execute_result"
    }
   ],
   "source": [
    "# Droping the duplicates\n",
    "data = data.drop_duplicates(subset = ['text'], keep = 'first')\n",
    "data.text.duplicated().sum()"
   ]
  },
  {
   "cell_type": "code",
   "execution_count": 8,
   "metadata": {},
   "outputs": [
    {
     "data": {
      "text/plain": [
       "label    0\n",
       "text     0\n",
       "dtype: int64"
      ]
     },
     "execution_count": 8,
     "metadata": {},
     "output_type": "execute_result"
    }
   ],
   "source": [
    "# Checking for missing values\n",
    "data.isna().sum()"
   ]
  },
  {
   "cell_type": "code",
   "execution_count": 9,
   "metadata": {},
   "outputs": [],
   "source": [
    "# splitting training and testing data. I use 70% of the data for training and 30% for testing\n",
    "train_data=data.sample(frac=0.7,random_state=200) #random state is a seed value\n",
    "test_data=data.drop(train_data.index)\n"
   ]
  },
  {
   "cell_type": "code",
   "execution_count": null,
   "metadata": {},
   "outputs": [],
   "source": []
  },
  {
   "cell_type": "code",
   "execution_count": 10,
   "metadata": {},
   "outputs": [
    {
     "name": "stderr",
     "output_type": "stream",
     "text": [
      "/home/jovyan/conda/lib/python3.8/site-packages/seaborn/_decorators.py:36: FutureWarning: Pass the following variable as a keyword arg: x. From version 0.12, the only valid positional argument will be `data`, and passing other arguments without an explicit keyword will result in an error or misinterpretation.\n",
      "  warnings.warn(\n"
     ]
    },
    {
     "data": {
      "image/png": "[encoded data removed]",
      "text/plain": [
       "<Figure size 432x288 with 1 Axes>"
      ]
     },
     "metadata": {
      "needs_background": "light"
     },
     "output_type": "display_data"
    }
   ],
   "source": [
    "#Checking for class imbalance in the training set\n",
    "g = sns.countplot(train_data['label'])\n",
    "plt.show()"
   ]
  },
  {
   "cell_type": "markdown",
   "metadata": {},
   "source": [
    "The training set is highly imbalanced. I'll deal with it by oversampling (i.e replicate some values in the negative and positive class to match the size of the neutral class )."
   ]
  },
  {
   "cell_type": "code",
   "execution_count": 11,
   "metadata": {},
   "outputs": [
    {
     "name": "stderr",
     "output_type": "stream",
     "text": [
      "/home/jovyan/conda/lib/python3.8/site-packages/seaborn/_decorators.py:36: FutureWarning: Pass the following variable as a keyword arg: x. From version 0.12, the only valid positional argument will be `data`, and passing other arguments without an explicit keyword will result in an error or misinterpretation.\n",
      "  warnings.warn(\n"
     ]
    },
    {
     "data": {
      "image/png": "[encoded data removed]",
      "text/plain": [
       "<Figure size 432x288 with 1 Axes>"
      ]
     },
     "metadata": {
      "needs_background": "light"
     },
     "output_type": "display_data"
    }
   ],
   "source": [
    "positive_class = train_data[train_data['label'] == 'positive']\n",
    "positive_count = train_data['label'].value_counts()['positive'] # will be useful during model testing\n",
    "negative_class = train_data[train_data['label'] == 'negative']\n",
    "negative_count = train_data['label'].value_counts()['negative'] # wiil be useful during model testing\n",
    "neutral_class = train_data[train_data['label'] == 'neutral']\n",
    "neutral_count = train_data['label'].value_counts()['neutral']\n",
    "\n",
    "positive_class_over = positive_class.sample(neutral_count, replace=True)\n",
    "negative_class_over = negative_class.sample(neutral_count, replace=True)\n",
    "train_data = pd.concat([positive_class_over, negative_class_over,neutral_class], axis=0)\n",
    "\n",
    "g = sns.countplot(train_data['label'])\n",
    "plt.show()"
   ]
  },
  {
   "cell_type": "markdown",
   "metadata": {},
   "source": [
    "Now, we have a balanced dataset. "
   ]
  },
  {
   "cell_type": "code",
   "execution_count": null,
   "metadata": {},
   "outputs": [],
   "source": []
  },
  {
   "cell_type": "code",
   "execution_count": 12,
   "metadata": {},
   "outputs": [],
   "source": [
    "# I recombine the training and testing sets\n",
    "data = pd.concat([train_data, test_data], axis=0)"
   ]
  },
  {
   "cell_type": "code",
   "execution_count": null,
   "metadata": {},
   "outputs": [],
   "source": []
  },
  {
   "cell_type": "markdown",
   "metadata": {},
   "source": [
    "Now I will preprocess and tokenize the sentences (i.e convert them to list of words).I'll also examine some characteristics of the dataset (sentence lengths, number of unique words)."
   ]
  },
  {
   "cell_type": "code",
   "execution_count": 13,
   "metadata": {},
   "outputs": [
    {
     "name": "stdout",
     "output_type": "stream",
     "text": [
      "The number of unique words is: 10139\n"
     ]
    },
    {
     "data": {
      "text/plain": [
       "<AxesSubplot:>"
      ]
     },
     "execution_count": 13,
     "metadata": {},
     "output_type": "execute_result"
    },
    {
     "data": {
      "image/png": "[encoded data removed]",
      "text/plain": [
       "<Figure size 432x288 with 1 Axes>"
      ]
     },
     "metadata": {
      "needs_background": "light"
     },
     "output_type": "display_data"
    }
   ],
   "source": [
    "head_list = data['text'].tolist() # list of headlines\n",
    "\n",
    "\n",
    "# Importing libraries and initializing objects for the preprocessing and tokenization\n",
    "from nltk.corpus import stopwords\n",
    "from nltk.tokenize import word_tokenize\n",
    "from nltk.stem import WordNetLemmatizer\n",
    "stop_words = set(stopwords.words('english'))\n",
    "lemmatizer = WordNetLemmatizer()\n",
    "\n",
    "# Function to preprocess and tokenize a sentence\n",
    "def nltk_tokenizer(headline):\n",
    "    #For the different steps of preprocessing, see this kaggle notebook https://www.kaggle.com/sudalairajkumar/getting-started-with-text-preprocessing\n",
    "    \n",
    "    #URLs removal\n",
    "    url_pattern = re.compile(r'https?://\\S+|www\\.\\S+')\n",
    "    headline = url_pattern.sub(r'', headline)\n",
    "    \n",
    "    #HTML removal\n",
    "    html_pattern = re.compile('<.*?>')\n",
    "    headline= html_pattern.sub(r'', headline)\n",
    "    \n",
    "    #Punctuation removal\n",
    "    Punctuation = string.punctuation\n",
    "    headline = headline.translate(str.maketrans('', '', Punctuation))\n",
    "    \n",
    "    #Tokenization\n",
    "    head_tokens = word_tokenize(headline)    \n",
    "    \n",
    "    #stop words removal\n",
    "    head_tokens = [token for token in head_tokens if not (token.lower() in stop_words) ] \n",
    "    \n",
    "    #Lemmatization and conversion to lowercase\n",
    "    head_tokens = [lemmatizer.lemmatize(token.lower()) for token in head_tokens]\n",
    "    \n",
    "    return head_tokens\n",
    "\n",
    "# Applying the the tokenization function to the headlines\n",
    "head_list_token = [nltk_tokenizer(headline) for headline in head_list]\n",
    "\n",
    "#Creating a list of the words in the dataset and counting the unique words\n",
    "words_list = head_list_token[0]\n",
    "for headline in head_list_token:\n",
    "    words_list = words_list+headline\n",
    "words_count = len(set(words_list)) #Number of unique words in the dataset\n",
    "print(\"The number of unique words is:\", words_count)\n",
    "\n",
    "lenlist = pd.Series([len(headline) for headline in head_list_token]) #lengths of the headlines in the dataset\n",
    "lenlist.plot(kind='box') #box plot for the headlines lengths"
   ]
  },
  {
   "cell_type": "markdown",
   "metadata": {},
   "source": [
    "Looks like just a couple of headlines have more than 30 words"
   ]
  },
  {
   "cell_type": "code",
   "execution_count": 14,
   "metadata": {},
   "outputs": [
    {
     "name": "stdout",
     "output_type": "stream",
     "text": [
      "The proportion of reviews with more than 30 words is: 0.9852881630449454 %\n"
     ]
    }
   ],
   "source": [
    "i = 0\n",
    "for headline in head_list_token:\n",
    "    if len(headline) > 30:\n",
    "        #print(\" \".join(review))\n",
    "        i += 1\n",
    "print(\"The proportion of reviews with more than 30 words is:\", (i/len(head_list_token))*100,\"%\")"
   ]
  },
  {
   "cell_type": "markdown",
   "metadata": {},
   "source": [
    "The LSTM model requires all the inputs (sentences) to have the same length. Therefore some sentences will need to be padded and others truncated. The sentence length I set will impact the running time of the model, so I need it to be as small as possible without too much impact on the dataset.\n",
    "Since only a few words have a length higher than 30, I'll set a sentence length of 30."
   ]
  },
  {
   "cell_type": "code",
   "execution_count": null,
   "metadata": {},
   "outputs": [],
   "source": []
  },
  {
   "cell_type": "code",
   "execution_count": null,
   "metadata": {},
   "outputs": [],
   "source": []
  },
  {
   "cell_type": "markdown",
   "metadata": {},
   "source": [
    "I create dataset objects to train and test the model. I convert the original dataset to an appropriate format to pass to the model."
   ]
  },
  {
   "cell_type": "code",
   "execution_count": 15,
   "metadata": {},
   "outputs": [],
   "source": [
    "\n",
    "head_list = [\" \".join(headline) for headline in head_list_token] #Putting the tokenized sentences back together\n",
    "\n",
    "# Creating a tokenizer object. This object will facilitate the conversion of the dataset to it's numeric representation\n",
    "max_words = int(words_count*0.8)# Number of most frequent words to use for the tokenization\n",
    "tokenizer=tf.keras.preprocessing.text.Tokenizer(num_words = max_words,split=\" \") \n",
    "tokenizer.fit_on_texts(head_list) \n",
    "\n",
    "\n",
    "# Converting word to indices\n",
    "indice_lists = tokenizer.texts_to_sequences(head_list) #each review is converted to a list of integer, where an integer is the indice of the coresponding word in the vocabulary\n",
    "indice_lists_pad = tf.keras.preprocessing.sequence.pad_sequences(indice_lists, maxlen=30,padding='pre',truncating='post', value=0.0) #add zeros for all the lists to have the same length. and truncate reviews that are too long.\n",
    "indice_lists_pad = torch.Tensor.long(torch.from_numpy(indice_lists_pad)) #converting the padded sequences to a tensor\n",
    "\n",
    "\n",
    "# Converting labels to numeric values\n",
    "label_list = data['label'].tolist()\n",
    "label_dict = {\"positive\":0,\"negative\":1,\"neutral\":2}\n",
    "label_list = torch.tensor( [label_dict[element] for element in label_list])\n",
    "\n",
    "\n",
    "split = train_data.shape[0] #where to split between training and testing set.\n",
    "# Note: There hasn't been any shuffling of the data so we'll have the same testing and training set we had before.\n",
    "\n",
    "\n",
    "from torch.utils.data import Dataset\n",
    "\n",
    "# Training set object\n",
    "class training_data(Dataset):\n",
    "    def __init__(self):\n",
    "        self.samples = [indice_lists_pad[:split,:],label_list[:split]]\n",
    "        #self.samples = self.samples.to(device)\n",
    "\n",
    "    def __len__(self):\n",
    "        return self.samples[1].size()[0]\n",
    "\n",
    "    def __getitem__(self, idx):\n",
    "        return self.samples[0][idx,:],self.samples[1][idx]\n",
    "\n",
    "# Testing set object\n",
    "class testing_data(Dataset):\n",
    "    def __init__(self):\n",
    "        self.samples = [indice_lists_pad[split:,:],label_list[split:]]\n",
    "        #self.samples = self.samples.to(device)\n",
    "\n",
    "    def __len__(self):\n",
    "        return self.samples[1].size()[0]\n",
    "\n",
    "    def __getitem__(self, idx):\n",
    "        return self.samples[0][idx,:],self.samples[1][idx]"
   ]
  },
  {
   "cell_type": "code",
   "execution_count": 16,
   "metadata": {},
   "outputs": [],
   "source": [
    "from torch.utils.data import DataLoader\n",
    "train_dataloader = DataLoader(training_data(), batch_size=200)\n",
    "test_dataloader = DataLoader(testing_data(), batch_size=200)"
   ]
  },
  {
   "cell_type": "code",
   "execution_count": 17,
   "metadata": {},
   "outputs": [],
   "source": [
    "# numbers of positive,negative and neutral labels in the testing set. Those will be useful to compute certain metrics during the training.\n",
    "test_pos_count = (label_list[split:] == 0).type(torch.float).sum().item()\n",
    "test_neg_count = (label_list[split:] == 1).type(torch.float).sum().item()\n",
    "test_neut_count =(label_list[split:] == 2).type(torch.float).sum().item()"
   ]
  },
  {
   "cell_type": "code",
   "execution_count": 18,
   "metadata": {},
   "outputs": [
    {
     "data": {
      "text/plain": [
       "8112"
      ]
     },
     "execution_count": 18,
     "metadata": {},
     "output_type": "execute_result"
    }
   ],
   "source": [
    "#number of unique indices\n",
    "max_words+1 #+1 for 0 which represents the padding"
   ]
  },
  {
   "cell_type": "code",
   "execution_count": null,
   "metadata": {},
   "outputs": [],
   "source": []
  },
  {
   "cell_type": "code",
   "execution_count": null,
   "metadata": {},
   "outputs": [],
   "source": []
  },
  {
   "cell_type": "code",
   "execution_count": null,
   "metadata": {},
   "outputs": [],
   "source": []
  },
  {
   "cell_type": "markdown",
   "metadata": {},
   "source": [
    "Passing sentences to a classification model involves a step called embedding. The words are converted to numerical vectors with values based on the context in which the words are used and their similarity with other words.\n",
    "\n",
    "There are pretrained word embeddings, i.e vector representation of words learned on another (typically large) dataset. \n",
    "Our dataset is very small (only 4837 values), so it'll fail to capture many of the specifics of the human language (I actually tried without pretrained embedding and the results were very bad). An embedding pretrained on a large dataset better capture the structure of the language. It can be used as a baseline and be updated during the training of the model to adapt to a specific context (here the financial context).\n",
    "\n",
    "For this project, I'll use a pretrained embedding called glove https://nlp.stanford.edu/projects/glove/"
   ]
  },
  {
   "cell_type": "code",
   "execution_count": 19,
   "metadata": {},
   "outputs": [
    {
     "data": {
      "text/html": [
       "<div>\n",
       "<style scoped>\n",
       "    .dataframe tbody tr th:only-of-type {\n",
       "        vertical-align: middle;\n",
       "    }\n",
       "\n",
       "    .dataframe tbody tr th {\n",
       "        vertical-align: top;\n",
       "    }\n",
       "\n",
       "    .dataframe thead th {\n",
       "        text-align: right;\n",
       "    }\n",
       "</style>\n",
       "<table border=\"1\" class=\"dataframe\">\n",
       "  <thead>\n",
       "    <tr style=\"text-align: right;\">\n",
       "      <th></th>\n",
       "      <th>1</th>\n",
       "      <th>2</th>\n",
       "      <th>3</th>\n",
       "      <th>4</th>\n",
       "      <th>5</th>\n",
       "      <th>6</th>\n",
       "      <th>7</th>\n",
       "      <th>8</th>\n",
       "      <th>9</th>\n",
       "      <th>10</th>\n",
       "      <th>...</th>\n",
       "      <th>41</th>\n",
       "      <th>42</th>\n",
       "      <th>43</th>\n",
       "      <th>44</th>\n",
       "      <th>45</th>\n",
       "      <th>46</th>\n",
       "      <th>47</th>\n",
       "      <th>48</th>\n",
       "      <th>49</th>\n",
       "      <th>50</th>\n",
       "    </tr>\n",
       "    <tr>\n",
       "      <th>0</th>\n",
       "      <th></th>\n",
       "      <th></th>\n",
       "      <th></th>\n",
       "      <th></th>\n",
       "      <th></th>\n",
       "      <th></th>\n",
       "      <th></th>\n",
       "      <th></th>\n",
       "      <th></th>\n",
       "      <th></th>\n",
       "      <th></th>\n",
       "      <th></th>\n",
       "      <th></th>\n",
       "      <th></th>\n",
       "      <th></th>\n",
       "      <th></th>\n",
       "      <th></th>\n",
       "      <th></th>\n",
       "      <th></th>\n",
       "      <th></th>\n",
       "      <th></th>\n",
       "    </tr>\n",
       "  </thead>\n",
       "  <tbody>\n",
       "    <tr>\n",
       "      <th>the</th>\n",
       "      <td>0.418000</td>\n",
       "      <td>0.249680</td>\n",
       "      <td>-0.41242</td>\n",
       "      <td>0.121700</td>\n",
       "      <td>0.345270</td>\n",
       "      <td>-0.044457</td>\n",
       "      <td>-0.49688</td>\n",
       "      <td>-0.178620</td>\n",
       "      <td>-0.000660</td>\n",
       "      <td>-0.656600</td>\n",
       "      <td>...</td>\n",
       "      <td>-0.298710</td>\n",
       "      <td>-0.157490</td>\n",
       "      <td>-0.347580</td>\n",
       "      <td>-0.045637</td>\n",
       "      <td>-0.442510</td>\n",
       "      <td>0.187850</td>\n",
       "      <td>0.002785</td>\n",
       "      <td>-0.184110</td>\n",
       "      <td>-0.115140</td>\n",
       "      <td>-0.785810</td>\n",
       "    </tr>\n",
       "    <tr>\n",
       "      <th>,</th>\n",
       "      <td>0.013441</td>\n",
       "      <td>0.236820</td>\n",
       "      <td>-0.16899</td>\n",
       "      <td>0.409510</td>\n",
       "      <td>0.638120</td>\n",
       "      <td>0.477090</td>\n",
       "      <td>-0.42852</td>\n",
       "      <td>-0.556410</td>\n",
       "      <td>-0.364000</td>\n",
       "      <td>-0.239380</td>\n",
       "      <td>...</td>\n",
       "      <td>-0.080262</td>\n",
       "      <td>0.630030</td>\n",
       "      <td>0.321110</td>\n",
       "      <td>-0.467650</td>\n",
       "      <td>0.227860</td>\n",
       "      <td>0.360340</td>\n",
       "      <td>-0.378180</td>\n",
       "      <td>-0.566570</td>\n",
       "      <td>0.044691</td>\n",
       "      <td>0.303920</td>\n",
       "    </tr>\n",
       "    <tr>\n",
       "      <th>.</th>\n",
       "      <td>0.151640</td>\n",
       "      <td>0.301770</td>\n",
       "      <td>-0.16763</td>\n",
       "      <td>0.176840</td>\n",
       "      <td>0.317190</td>\n",
       "      <td>0.339730</td>\n",
       "      <td>-0.43478</td>\n",
       "      <td>-0.310860</td>\n",
       "      <td>-0.449990</td>\n",
       "      <td>-0.294860</td>\n",
       "      <td>...</td>\n",
       "      <td>-0.000064</td>\n",
       "      <td>0.068987</td>\n",
       "      <td>0.087939</td>\n",
       "      <td>-0.102850</td>\n",
       "      <td>-0.139310</td>\n",
       "      <td>0.223140</td>\n",
       "      <td>-0.080803</td>\n",
       "      <td>-0.356520</td>\n",
       "      <td>0.016413</td>\n",
       "      <td>0.102160</td>\n",
       "    </tr>\n",
       "    <tr>\n",
       "      <th>of</th>\n",
       "      <td>0.708530</td>\n",
       "      <td>0.570880</td>\n",
       "      <td>-0.47160</td>\n",
       "      <td>0.180480</td>\n",
       "      <td>0.544490</td>\n",
       "      <td>0.726030</td>\n",
       "      <td>0.18157</td>\n",
       "      <td>-0.523930</td>\n",
       "      <td>0.103810</td>\n",
       "      <td>-0.175660</td>\n",
       "      <td>...</td>\n",
       "      <td>-0.347270</td>\n",
       "      <td>0.284830</td>\n",
       "      <td>0.075693</td>\n",
       "      <td>-0.062178</td>\n",
       "      <td>-0.389880</td>\n",
       "      <td>0.229020</td>\n",
       "      <td>-0.216170</td>\n",
       "      <td>-0.225620</td>\n",
       "      <td>-0.093918</td>\n",
       "      <td>-0.803750</td>\n",
       "    </tr>\n",
       "    <tr>\n",
       "      <th>to</th>\n",
       "      <td>0.680470</td>\n",
       "      <td>-0.039263</td>\n",
       "      <td>0.30186</td>\n",
       "      <td>-0.177920</td>\n",
       "      <td>0.429620</td>\n",
       "      <td>0.032246</td>\n",
       "      <td>-0.41376</td>\n",
       "      <td>0.132280</td>\n",
       "      <td>-0.298470</td>\n",
       "      <td>-0.085253</td>\n",
       "      <td>...</td>\n",
       "      <td>-0.094375</td>\n",
       "      <td>0.018324</td>\n",
       "      <td>0.210480</td>\n",
       "      <td>-0.030880</td>\n",
       "      <td>-0.197220</td>\n",
       "      <td>0.082279</td>\n",
       "      <td>-0.094340</td>\n",
       "      <td>-0.073297</td>\n",
       "      <td>-0.064699</td>\n",
       "      <td>-0.260440</td>\n",
       "    </tr>\n",
       "    <tr>\n",
       "      <th>and</th>\n",
       "      <td>0.268180</td>\n",
       "      <td>0.143460</td>\n",
       "      <td>-0.27877</td>\n",
       "      <td>0.016257</td>\n",
       "      <td>0.113840</td>\n",
       "      <td>0.699230</td>\n",
       "      <td>-0.51332</td>\n",
       "      <td>-0.473680</td>\n",
       "      <td>-0.330750</td>\n",
       "      <td>-0.138340</td>\n",
       "      <td>...</td>\n",
       "      <td>-0.069043</td>\n",
       "      <td>0.368850</td>\n",
       "      <td>0.251680</td>\n",
       "      <td>-0.245170</td>\n",
       "      <td>0.253810</td>\n",
       "      <td>0.136700</td>\n",
       "      <td>-0.311780</td>\n",
       "      <td>-0.632100</td>\n",
       "      <td>-0.250280</td>\n",
       "      <td>-0.380970</td>\n",
       "    </tr>\n",
       "    <tr>\n",
       "      <th>in</th>\n",
       "      <td>0.330420</td>\n",
       "      <td>0.249950</td>\n",
       "      <td>-0.60874</td>\n",
       "      <td>0.109230</td>\n",
       "      <td>0.036372</td>\n",
       "      <td>0.151000</td>\n",
       "      <td>-0.55083</td>\n",
       "      <td>-0.074239</td>\n",
       "      <td>-0.092307</td>\n",
       "      <td>-0.328210</td>\n",
       "      <td>...</td>\n",
       "      <td>-0.486090</td>\n",
       "      <td>-0.008027</td>\n",
       "      <td>0.031184</td>\n",
       "      <td>-0.365760</td>\n",
       "      <td>-0.426990</td>\n",
       "      <td>0.421640</td>\n",
       "      <td>-0.116660</td>\n",
       "      <td>-0.507030</td>\n",
       "      <td>-0.027273</td>\n",
       "      <td>-0.532850</td>\n",
       "    </tr>\n",
       "    <tr>\n",
       "      <th>a</th>\n",
       "      <td>0.217050</td>\n",
       "      <td>0.465150</td>\n",
       "      <td>-0.46757</td>\n",
       "      <td>0.100820</td>\n",
       "      <td>1.013500</td>\n",
       "      <td>0.748450</td>\n",
       "      <td>-0.53104</td>\n",
       "      <td>-0.262560</td>\n",
       "      <td>0.168120</td>\n",
       "      <td>0.131820</td>\n",
       "      <td>...</td>\n",
       "      <td>0.138130</td>\n",
       "      <td>0.369730</td>\n",
       "      <td>-0.642890</td>\n",
       "      <td>0.024142</td>\n",
       "      <td>-0.039315</td>\n",
       "      <td>-0.260370</td>\n",
       "      <td>0.120170</td>\n",
       "      <td>-0.043782</td>\n",
       "      <td>0.410130</td>\n",
       "      <td>0.179600</td>\n",
       "    </tr>\n",
       "    <tr>\n",
       "      <th>\"</th>\n",
       "      <td>0.257690</td>\n",
       "      <td>0.456290</td>\n",
       "      <td>-0.76974</td>\n",
       "      <td>-0.376790</td>\n",
       "      <td>0.592720</td>\n",
       "      <td>-0.063527</td>\n",
       "      <td>0.20545</td>\n",
       "      <td>-0.573850</td>\n",
       "      <td>-0.290090</td>\n",
       "      <td>-0.136620</td>\n",
       "      <td>...</td>\n",
       "      <td>0.030498</td>\n",
       "      <td>-0.395430</td>\n",
       "      <td>-0.385150</td>\n",
       "      <td>-1.000200</td>\n",
       "      <td>0.087599</td>\n",
       "      <td>-0.310090</td>\n",
       "      <td>-0.346770</td>\n",
       "      <td>-0.314380</td>\n",
       "      <td>0.750040</td>\n",
       "      <td>0.970650</td>\n",
       "    </tr>\n",
       "    <tr>\n",
       "      <th>'s</th>\n",
       "      <td>0.237270</td>\n",
       "      <td>0.404780</td>\n",
       "      <td>-0.20547</td>\n",
       "      <td>0.588050</td>\n",
       "      <td>0.655330</td>\n",
       "      <td>0.328670</td>\n",
       "      <td>-0.81964</td>\n",
       "      <td>-0.232360</td>\n",
       "      <td>0.274280</td>\n",
       "      <td>0.242650</td>\n",
       "      <td>...</td>\n",
       "      <td>-0.123420</td>\n",
       "      <td>0.659610</td>\n",
       "      <td>-0.518020</td>\n",
       "      <td>-0.829950</td>\n",
       "      <td>-0.082739</td>\n",
       "      <td>0.281550</td>\n",
       "      <td>-0.423000</td>\n",
       "      <td>-0.273780</td>\n",
       "      <td>-0.007901</td>\n",
       "      <td>-0.030231</td>\n",
       "    </tr>\n",
       "  </tbody>\n",
       "</table>\n",
       "<p>10 rows × 50 columns</p>\n",
       "</div>"
      ],
      "text/plain": [
       "           1         2        3         4         5         6        7   \\\n",
       "0                                                                         \n",
       "the  0.418000  0.249680 -0.41242  0.121700  0.345270 -0.044457 -0.49688   \n",
       ",    0.013441  0.236820 -0.16899  0.409510  0.638120  0.477090 -0.42852   \n",
       ".    0.151640  0.301770 -0.16763  0.176840  0.317190  0.339730 -0.43478   \n",
       "of   0.708530  0.570880 -0.47160  0.180480  0.544490  0.726030  0.18157   \n",
       "to   0.680470 -0.039263  0.30186 -0.177920  0.429620  0.032246 -0.41376   \n",
       "and  0.268180  0.143460 -0.27877  0.016257  0.113840  0.699230 -0.51332   \n",
       "in   0.330420  0.249950 -0.60874  0.109230  0.036372  0.151000 -0.55083   \n",
       "a    0.217050  0.465150 -0.46757  0.100820  1.013500  0.748450 -0.53104   \n",
       "\"    0.257690  0.456290 -0.76974 -0.376790  0.592720 -0.063527  0.20545   \n",
       "'s   0.237270  0.404780 -0.20547  0.588050  0.655330  0.328670 -0.81964   \n",
       "\n",
       "           8         9         10  ...        41        42        43  \\\n",
       "0                                  ...                                 \n",
       "the -0.178620 -0.000660 -0.656600  ... -0.298710 -0.157490 -0.347580   \n",
       ",   -0.556410 -0.364000 -0.239380  ... -0.080262  0.630030  0.321110   \n",
       ".   -0.310860 -0.449990 -0.294860  ... -0.000064  0.068987  0.087939   \n",
       "of  -0.523930  0.103810 -0.175660  ... -0.347270  0.284830  0.075693   \n",
       "to   0.132280 -0.298470 -0.085253  ... -0.094375  0.018324  0.210480   \n",
       "and -0.473680 -0.330750 -0.138340  ... -0.069043  0.368850  0.251680   \n",
       "in  -0.074239 -0.092307 -0.328210  ... -0.486090 -0.008027  0.031184   \n",
       "a   -0.262560  0.168120  0.131820  ...  0.138130  0.369730 -0.642890   \n",
       "\"   -0.573850 -0.290090 -0.136620  ...  0.030498 -0.395430 -0.385150   \n",
       "'s  -0.232360  0.274280  0.242650  ... -0.123420  0.659610 -0.518020   \n",
       "\n",
       "           44        45        46        47        48        49        50  \n",
       "0                                                                          \n",
       "the -0.045637 -0.442510  0.187850  0.002785 -0.184110 -0.115140 -0.785810  \n",
       ",   -0.467650  0.227860  0.360340 -0.378180 -0.566570  0.044691  0.303920  \n",
       ".   -0.102850 -0.139310  0.223140 -0.080803 -0.356520  0.016413  0.102160  \n",
       "of  -0.062178 -0.389880  0.229020 -0.216170 -0.225620 -0.093918 -0.803750  \n",
       "to  -0.030880 -0.197220  0.082279 -0.094340 -0.073297 -0.064699 -0.260440  \n",
       "and -0.245170  0.253810  0.136700 -0.311780 -0.632100 -0.250280 -0.380970  \n",
       "in  -0.365760 -0.426990  0.421640 -0.116660 -0.507030 -0.027273 -0.532850  \n",
       "a    0.024142 -0.039315 -0.260370  0.120170 -0.043782  0.410130  0.179600  \n",
       "\"   -1.000200  0.087599 -0.310090 -0.346770 -0.314380  0.750040  0.970650  \n",
       "'s  -0.829950 -0.082739  0.281550 -0.423000 -0.273780 -0.007901 -0.030231  \n",
       "\n",
       "[10 rows x 50 columns]"
      ]
     },
     "execution_count": 19,
     "metadata": {},
     "output_type": "execute_result"
    }
   ],
   "source": [
    "# Loading a pretrained word embedding (the vectors are 50 dimensional)\n",
    "glove = pd.read_csv('glove.6B.50d.txt', sep=\" \", quoting=3, header=None, index_col=0)\n",
    "glove.head(10)"
   ]
  },
  {
   "cell_type": "code",
   "execution_count": 20,
   "metadata": {},
   "outputs": [],
   "source": [
    "# storing words and their vector representations in a dictionnary\n",
    "glove_embedding = {key: val.values for key, val in glove.T.items()} # dictionarry of word:vector representation pairs(the vectors are numpy arrays)"
   ]
  },
  {
   "cell_type": "markdown",
   "metadata": {},
   "source": [
    "I create an embedding matrix, i.e a matrix pairing each word in the dataset vocabulary to it's vector embedding (Glove). It's used for the embedding during the model training."
   ]
  },
  {
   "cell_type": "code",
   "execution_count": 21,
   "metadata": {},
   "outputs": [],
   "source": [
    "\n",
    "vocab = tokenizer.word_index\n",
    "\n",
    "# Function to create the embedding matrix\n",
    "def create_embedding_matrix(vocab,embedding_dict):\n",
    "    embedding_matrix=np.random.rand(len(vocab)+1,50) \n",
    "    \n",
    "    for word,index in vocab.items():\n",
    "        if word in embedding_dict:\n",
    "            embedding_matrix[index]=embedding_dict[word]\n",
    "    return embedding_matrix\n",
    "   \n",
    "#embedding matrix   \n",
    "embedding_matrix=create_embedding_matrix(vocab,embedding_dict=glove_embedding) \n",
    "embedding_matrix = torch.from_numpy(embedding_matrix)\n",
    "embedding_matrix = embedding_matrix .to(device)\n",
    "\n"
   ]
  },
  {
   "cell_type": "code",
   "execution_count": null,
   "metadata": {},
   "outputs": [],
   "source": []
  },
  {
   "cell_type": "code",
   "execution_count": null,
   "metadata": {},
   "outputs": [],
   "source": []
  },
  {
   "cell_type": "code",
   "execution_count": null,
   "metadata": {},
   "outputs": [],
   "source": []
  },
  {
   "cell_type": "markdown",
   "metadata": {},
   "source": [
    "II) Model development (LSTM)"
   ]
  },
  {
   "cell_type": "code",
   "execution_count": 22,
   "metadata": {},
   "outputs": [],
   "source": [
    "# Function to create an embedding layer\n",
    "def create_emb_layer(embedding_matrix, non_trainable=False):\n",
    "    num_embeddings, embedding_dim = embedding_matrix.size()\n",
    "    emb_layer = nn.Embedding(num_embeddings, embedding_dim,padding_idx=0,device=device) #padding_idx = 0 means that all elements equal to zero in the input correpond to padding\n",
    "    emb_layer.load_state_dict({'weight': embedding_matrix})\n",
    "    if non_trainable:\n",
    "        emb_layer.weight.requires_grad = True\n",
    "    \n",
    "    return emb_layer\n",
    "\n",
    "\n",
    "#LSTM\n",
    "class myLSTM(nn.Module):\n",
    "    def __init__(self,input_size,hidden_size,embedding_matrix): # Data is inputed in the neural network by minibatches.\n",
    "        super(myLSTM, self).__init__()\n",
    "        self.input_size = input_size #dimension of xi(vector representation of words)\n",
    "        self.hidden_size = hidden_size #dimension of states St\n",
    "        self.embedding_matrix = embedding_matrix\n",
    "        \n",
    "        \n",
    "        self.embed = create_emb_layer(self.embedding_matrix,False) \n",
    "        \n",
    "        # RNN layer\n",
    "        self.lstm = nn.LSTM(input_size,hidden_size,batch_first = True)\n",
    "        \n",
    "        # Logistic regression layer\n",
    "        self.linear = nn.Linear(hidden_size,3) #this will be applied to each element of the batch. No need to specify the size of the batch\n",
    "        self.softmax = nn.Softmax(dim = 1) \n",
    "             #returns a vector of probabilities\n",
    "             #there are 3 categories: positive, negative, neutral (The probabilities for the 3 classes are returned)\n",
    "        \n",
    "    def forward(self, x,batch_size):\n",
    "       \n",
    "        \n",
    "        #print(batch_size)\n",
    "        h_0 = torch.zeros(1,batch_size,self.hidden_size).to(device)\n",
    "        c_0 = torch.randn(1,batch_size,self.hidden_size).to(device)\n",
    "        \n",
    "        x = x.to(device)\n",
    "        e = self.embed(x)\n",
    "        \n",
    "        \n",
    "        e = e.to(device)\n",
    "        \n",
    "        \n",
    "        \n",
    "        r = self.lstm(e,(h_0,c_0))\n",
    "        \n",
    "        logits = self.softmax(self.linear(r[1][0]))\n",
    "        \n",
    "        return logits\n",
    "    "
   ]
  },
  {
   "cell_type": "code",
   "execution_count": null,
   "metadata": {},
   "outputs": [],
   "source": []
  },
  {
   "cell_type": "code",
   "execution_count": null,
   "metadata": {},
   "outputs": [],
   "source": []
  },
  {
   "cell_type": "code",
   "execution_count": null,
   "metadata": {},
   "outputs": [],
   "source": []
  },
  {
   "cell_type": "markdown",
   "metadata": {},
   "source": [
    "III) Training and testing"
   ]
  },
  {
   "cell_type": "code",
   "execution_count": null,
   "metadata": {},
   "outputs": [],
   "source": []
  },
  {
   "cell_type": "markdown",
   "metadata": {},
   "source": [
    "1) Training and testing functions"
   ]
  },
  {
   "cell_type": "code",
   "execution_count": 23,
   "metadata": {},
   "outputs": [],
   "source": [
    "# Training and testing loop setup\n",
    "\n",
    "# Training loop\n",
    "def train_loop(dataloader, model, loss_fn, optimizer,printer = False):\n",
    "    size = len(dataloader.dataset)\n",
    "    for batch, (X, y) in enumerate(dataloader):\n",
    "\n",
    "        Y = torch.unsqueeze(y,1)\n",
    "        Y = Y.to(device)\n",
    "        pred = torch.squeeze(model(X,y.size()[0]),0)\n",
    "\n",
    "        \n",
    "        loss = loss_fn(pred,torch.squeeze(Y,1))\n",
    "\n",
    "        # Backpropagation\n",
    "        optimizer.zero_grad()\n",
    "        loss.backward()\n",
    "        optimizer.step()\n",
    "\n",
    "        if batch % 100 == 0:\n",
    "            loss, current = loss.item(), batch * len(X)\n",
    "            if printer:\n",
    "                print(f\"loss: {loss:>7f}  [{current:>5d}/{size:>5d}]\")\n",
    "\n",
    "# Test loop\n",
    "def test_loop(dataloader, model, loss_fn,test_pos_count,test_neg_count,test_neut_count,printer = False):\n",
    "    size = len(dataloader.dataset)\n",
    "    num_batches = len(dataloader)\n",
    "    #test_loss, correct = 0, 0\n",
    "    test_loss = 0\n",
    "    true_pos,true_neg,true_neut,predicted_pos,predicted_neg,predicted_neut = 0,0,0,0,0,0\n",
    "\n",
    "    with torch.no_grad():\n",
    "        for X, y in dataloader:\n",
    "            Y = torch.unsqueeze(y,1)\n",
    "            Y = Y.to(device)\n",
    "            pred = torch.squeeze(model(X,y.size()[0]),0)\n",
    "            \n",
    "            \n",
    "            \n",
    "            test_loss += loss_fn(pred,torch.squeeze(Y,1)).item()\n",
    "            \n",
    "            #correct += (pred.argmax(1) == torch.squeeze(Y)).type(torch.float).sum().item()\n",
    "            true_pos += (pred.argmax(1)[ pred.argmax(1)== torch.squeeze(Y)] == 0).type(torch.float).sum().item()\n",
    "            true_neg += (pred.argmax(1)[ pred.argmax(1)== torch.squeeze(Y)] == 1).type(torch.float).sum().item()\n",
    "            true_neut += (pred.argmax(1)[ pred.argmax(1)== torch.squeeze(Y)] == 2).type(torch.float).sum().item()\n",
    "            predicted_pos += (pred.argmax(1)==0).type(torch.float).sum().item()\n",
    "            predicted_neg += (pred.argmax(1)==1).type(torch.float).sum().item()\n",
    "            predicted_neut += (pred.argmax(1)==2).type(torch.float).sum().item()\n",
    "\n",
    "    test_loss /= num_batches\n",
    "    #correct /= size\n",
    "    \n",
    "    # Positive class performance\n",
    "    pos_precision = true_pos/predicted_pos\n",
    "    pos_recall = true_pos/ test_pos_count\n",
    "    \n",
    "    # Negative class performance\n",
    "    neg_precision = true_neg/predicted_neg\n",
    "    neg_recall = true_neg / test_neg_count\n",
    "    \n",
    "    # Neutral class performance\n",
    "    neut_precision = true_neut/predicted_neut\n",
    "    neut_recall = true_neut/ test_neut_count\n",
    "    \n",
    "    \n",
    "    \n",
    "    \n",
    "    \n",
    "    \n",
    "    if printer:\n",
    "        #print(f\"Test Error: \\n Accuracy: {(100*correct):>0.1f}%, Avg loss: {test_loss:>8f} \\n\")\n",
    "        print(f\"Positive precision: {(100*pos_precision):>0.1f}%\\n\")\n",
    "        print(f\"Positive recall: {(100*pos_recall):>0.1f}%\\n\\n\")\n",
    "        print(f\"Negative precision: {(100*neg_precision):>0.1f}%\\n\")\n",
    "        print(f\"Negative recall: {(100*neg_recall):>0.1f}%\\n\\n\")\n",
    "        #print(f\"Neutral precision: {(100*neut_precision):>0.1f}%\\n\")\n",
    "        #print(f\"Neutral recall: {(100*neut_recall):>0.1f}%\\n\")\n",
    "    return pos_precision,pos_recall,neg_precision,neg_recall,neut_precision,neut_recall"
   ]
  },
  {
   "cell_type": "code",
   "execution_count": null,
   "metadata": {},
   "outputs": [],
   "source": []
  },
  {
   "cell_type": "markdown",
   "metadata": {},
   "source": [
    "2) Training and testing"
   ]
  },
  {
   "cell_type": "markdown",
   "metadata": {},
   "source": [
    "a) Phase 1 (No weights for class imbalance)"
   ]
  },
  {
   "cell_type": "code",
   "execution_count": 31,
   "metadata": {},
   "outputs": [
    {
     "name": "stdout",
     "output_type": "stream",
     "text": [
      "Epoch 1\n",
      "-------------------------------\n",
      "loss: 1.098612  [    0/ 5982]\n",
      "Positive precision: 24.5%\n",
      "\n",
      "Positive recall: 32.9%\n",
      "\n",
      "\n",
      "Negative precision: 16.5%\n",
      "\n",
      "Negative recall: 42.2%\n",
      "\n",
      "\n",
      "Epoch 2501\n",
      "-------------------------------\n",
      "loss: 1.098633  [    0/ 5982]\n",
      "Positive precision: 25.0%\n",
      "\n",
      "Positive recall: 54.4%\n",
      "\n",
      "\n",
      "Negative precision: 24.9%\n",
      "\n",
      "Negative recall: 51.0%\n",
      "\n",
      "\n",
      "Done!\n"
     ]
    },
    {
     "data": {
      "image/png": "[encoded data removed]",
      "text/plain": [
       "<Figure size 432x288 with 1 Axes>"
      ]
     },
     "metadata": {
      "needs_background": "light"
     },
     "output_type": "display_data"
    }
   ],
   "source": [
    "i_size = 50 # input size\n",
    "h_dim = 50 #hidden size\n",
    "\n",
    "mylstm = myLSTM(input_size = i_size,hidden_size = h_dim,embedding_matrix=embedding_matrix).to(device)\n",
    " \n",
    "\n",
    "    \n",
    "    \n",
    "## Training and testing\n",
    "\n",
    "# Hyperparameters\n",
    "learning_rate = 5\n",
    "batch_size = 200\n",
    "epochs = 5000\n",
    "\n",
    "#l_errors = [0]*epochs #will store classification errors\n",
    "pos_precisions = [0]*epochs\n",
    "pos_recalls = [0]*epochs\n",
    "neg_precisions = [0]*epochs\n",
    "neg_recalls = [0]*epochs\n",
    "neut_precisions = [0]*epochs\n",
    "neut_recalls = [0]*epochs\n",
    "\n",
    "# Initialize the loss function\n",
    "loss_fn = nn.CrossEntropyLoss()\n",
    "\n",
    "\n",
    "\n",
    "# specifying that the optimizer is stochastic gradient descent\n",
    "optimizer = torch.optim.SGD(mylstm.parameters(), lr=learning_rate)\n",
    "\n",
    "\n",
    "#Training and testing\n",
    "for t in range(epochs):\n",
    "    if t%2500==0:\n",
    "        print(f\"Epoch {t+1}\\n-------------------------------\")\n",
    "        train_loop(train_dataloader, mylstm, loss_fn, optimizer,True)\n",
    "        pos_precisions[t],pos_recalls[t],neg_precisions[t],neg_recalls[t],neut_precisions[t],neut_recalls[t] = test_loop(test_dataloader, mylstm, loss_fn,test_pos_count,test_neg_count,test_neut_count,True)\n",
    "    else:\n",
    "        train_loop(train_dataloader, mylstm, loss_fn, optimizer)\n",
    "        pos_precisions[t],pos_recalls[t],neg_precisions[t],neg_recalls[t],neut_precisions[t],neut_recalls[t] = test_loop(test_dataloader, mylstm, loss_fn,test_pos_count,test_neg_count,test_neut_count)\n",
    "    \n",
    "print(\"Done!\")\n",
    "\n",
    "\n",
    "# Plotting\n",
    "plt.plot(range(1,epochs+1),pos_precisions,label = \"Positive precision\", color = 'b')\n",
    "plt.plot(range(1,epochs+1),pos_recalls,label = \"Positive recall\", color = 'cornflowerblue')\n",
    "plt.plot(range(1,epochs+1),neg_precisions,label = \"Negative precision\", color = 'r')\n",
    "plt.plot(range(1,epochs+1),neg_recalls,label = \"Negative recall\", color = 'lightcoral')\n",
    "plt.plot(range(1,epochs+1),neut_precisions,label = \"Neutral precision\", color = 'g')\n",
    "plt.plot(range(1,epochs+1),neut_recalls,label = \"Neutral recall\", color = 'limegreen')\n",
    "plt.xlabel(\"Number of iterations\")\n",
    "plt.ylabel(\"Precision and recall\")\n",
    "plt.legend()\n",
    "plt.show()\n",
    "\n",
    "\n",
    "\n",
    "            "
   ]
  },
  {
   "cell_type": "markdown",
   "metadata": {},
   "source": [
    "The precision of the positvetive class is very low (less than 30%) and doesn't seem to improve. \n",
    "\n",
    "My objective was to maximize the precision and recall (with emphasis on the precision) of both the positive and negative classes. So the obtained result are not satisfactory.\n",
    "\n",
    "I'll put weights in the loss function in order to penalize more misclassification errors for the positive and negative classes and hopefully get better results for these classes. The weight for a given class will be the inverse of it's sample size"
   ]
  },
  {
   "cell_type": "code",
   "execution_count": null,
   "metadata": {},
   "outputs": [],
   "source": []
  },
  {
   "cell_type": "markdown",
   "metadata": {},
   "source": [
    "b) Phase 2 (weights for class imbalance)"
   ]
  },
  {
   "cell_type": "code",
   "execution_count": 32,
   "metadata": {},
   "outputs": [
    {
     "name": "stdout",
     "output_type": "stream",
     "text": [
      "Epoch 1\n",
      "-------------------------------\n",
      "loss: 1.098613  [    0/ 5982]\n",
      "Positive precision: 21.9%\n",
      "\n",
      "Positive recall: 25.3%\n",
      "\n",
      "\n",
      "Negative precision: 14.0%\n",
      "\n",
      "Negative recall: 30.9%\n",
      "\n",
      "\n",
      "Epoch 2501\n",
      "-------------------------------\n",
      "loss: 1.098634  [    0/ 5982]\n",
      "Positive precision: 23.9%\n",
      "\n",
      "Positive recall: 36.1%\n",
      "\n",
      "\n",
      "Negative precision: 21.6%\n",
      "\n",
      "Negative recall: 76.5%\n",
      "\n",
      "\n",
      "Done!\n"
     ]
    },
    {
     "data": {
      "image/png": "[encoded data removed]",
      "text/plain": [
       "<Figure size 432x288 with 1 Axes>"
      ]
     },
     "metadata": {
      "needs_background": "light"
     },
     "output_type": "display_data"
    }
   ],
   "source": [
    "i_size = 50 # input size\n",
    "h_dim = 50 #hidden size\n",
    "\n",
    "mylstm = myLSTM(input_size = i_size,hidden_size = h_dim,embedding_matrix=embedding_matrix).to(device)\n",
    " \n",
    "\n",
    "    \n",
    "    \n",
    "## Training and testing\n",
    "\n",
    "# Hyperparameters\n",
    "learning_rate = 5\n",
    "batch_size = 200\n",
    "epochs = 5000\n",
    "\n",
    "#l_errors = [0]*epochs #will store classification errors\n",
    "pos_precisions = [0]*epochs\n",
    "pos_recalls = [0]*epochs\n",
    "neg_precisions = [0]*epochs\n",
    "neg_recalls = [0]*epochs\n",
    "neut_precisions = [0]*epochs\n",
    "neut_recalls = [0]*epochs\n",
    "\n",
    "# Initialize the loss function\n",
    "\n",
    "#loss_fn = nn.CrossEntropyLoss(weight = weights)\n",
    "weights = torch.tensor([1/positive_count,1/negative_count,1/neutral_count]).float().to(device)\n",
    "loss_fn = nn.CrossEntropyLoss(weight = weights)\n",
    "\n",
    "#loss_fn = nn.BCELoss()\n",
    "\n",
    "# specifying that the optimizer is stochastic gradient descent\n",
    "optimizer = torch.optim.SGD(mylstm.parameters(), lr=learning_rate)\n",
    "#optimizer =torch.optim.Adam(mylstm.parameters(), lr=learning_rate)\n",
    "\n",
    "#Training and testing\n",
    "for t in range(epochs):\n",
    "    if t%2500==0:\n",
    "        print(f\"Epoch {t+1}\\n-------------------------------\")\n",
    "        train_loop(train_dataloader, mylstm, loss_fn, optimizer,True)\n",
    "        pos_precisions[t],pos_recalls[t],neg_precisions[t],neg_recalls[t],neut_precisions[t],neut_recalls[t] = test_loop(test_dataloader, mylstm, loss_fn,test_pos_count,test_neg_count,test_neut_count,True)\n",
    "    else:\n",
    "        train_loop(train_dataloader, mylstm, loss_fn, optimizer)\n",
    "        pos_precisions[t],pos_recalls[t],neg_precisions[t],neg_recalls[t],neut_precisions[t],neut_recalls[t] = test_loop(test_dataloader, mylstm, loss_fn,test_pos_count,test_neg_count,test_neut_count)\n",
    "\n",
    "print(\"Done!\")\n",
    "\n",
    "\n",
    "# Plotting\n",
    "plt.plot(range(1,epochs+1),pos_precisions,label = \"Positive precision\", color = 'b')\n",
    "plt.plot(range(1,epochs+1),pos_recalls,label = \"Positive recall\", color = 'cornflowerblue')\n",
    "plt.plot(range(1,epochs+1),neg_precisions,label = \"Negative precision\", color = 'r')\n",
    "plt.plot(range(1,epochs+1),neg_recalls,label = \"Negative recall\", color = 'lightcoral')\n",
    "plt.plot(range(1,epochs+1),neut_precisions,label = \"Neutral precision\", color = 'g')\n",
    "plt.plot(range(1,epochs+1),neut_recalls,label = \"Neutral recall\", color = 'limegreen')\n",
    "plt.xlabel(\"Number of iterations\")\n",
    "plt.ylabel(\"Precision and recall\")\n",
    "plt.legend()\n",
    "plt.show()\n",
    "\n",
    "\n",
    "\n",
    "            "
   ]
  },
  {
   "cell_type": "markdown",
   "metadata": {},
   "source": [
    "The precision is again very low for the positive class (and also for thr negative class this time), with very little improvement during training.\n",
    "This is probably due to the fact that there's very little data with the positive label.\n",
    "\n",
    "My initial objective which was getting a good precision and recall for both the positive and negative classes seems impossible to meet given the quality(size) of the dataset. \n"
   ]
  },
  {
   "cell_type": "markdown",
   "metadata": {},
   "source": [
    "May be focusing only on the negative class, and trying to get a good precision and recall on this class might be doable.\n",
    "In this case It makes more sense to do a binary classification (Negative sentiment against non-negative). "
   ]
  },
  {
   "cell_type": "code",
   "execution_count": null,
   "metadata": {},
   "outputs": [],
   "source": []
  }
 ],
 "metadata": {
  "kernelspec": {
   "display_name": "Python 3",
   "language": "python",
   "name": "python3"
  },
  "language_info": {
   "codemirror_mode": {
    "name": "ipython",
    "version": 3
   },
   "file_extension": ".py",
   "mimetype": "text/x-python",
   "name": "python",
   "nbconvert_exporter": "python",
   "pygments_lexer": "ipython3",
   "version": "3.7.6"
  }
 },
 "nbformat": 4,
 "nbformat_minor": 4
}
